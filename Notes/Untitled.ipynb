{
 "cells": [
  {
   "cell_type": "code",
   "execution_count": 1,
   "metadata": {
    "collapsed": false,
    "deletable": true,
    "editable": true
   },
   "outputs": [],
   "source": [
    "%matplotlib inline\n",
    "%load_ext autoreload\n",
    "%autoreload 2\n",
    "import tensorflow as tf\n",
    "from tensorflow.python.ops import control_flow_ops\n",
    "import os, os.path\n",
    "import sys\n",
    "sys.path.insert(0,'../processing/')\n",
    "sys.path.insert(0,'../')\n",
    "from datasets import sythtextprovider\n",
    "from nets import txtbox_300, textbox_common, np_methods, txtbox512\n",
    "#from processing import image_processing\n",
    "from image_processing2 import *\n",
    "from processing import ssd_vgg_preprocessing, visualization,txt_preprocessing\n",
    "import tf_utils\n",
    "import time\n",
    "slim = tf.contrib.slim\n",
    "import load_batch\n",
    "import numpy as np\n",
    "import skimage.io as skio\n",
    "from processing import tf_image\n",
    "import cv2\n"
   ]
  },
  {
   "cell_type": "code",
   "execution_count": 2,
   "metadata": {
    "collapsed": true,
    "deletable": true,
    "editable": true
   },
   "outputs": [],
   "source": [
    "isess = tf.InteractiveSession()"
   ]
  },
  {
   "cell_type": "code",
   "execution_count": 3,
   "metadata": {
    "collapsed": false,
    "deletable": true,
    "editable": true
   },
   "outputs": [],
   "source": [
    "def visualize_bbox(image, bboxes):\n",
    "    \"\"\"\n",
    "    Input: image (height, width, channels)\n",
    "           bboxes (numof bboxes, 4) in order(ymin, xmin, ymax, xmax)\n",
    "                  range(0,1) \n",
    "    \"\"\"\n",
    "    numofbox = bboxes.shape[0]\n",
    "    width = image.shape[1]\n",
    "    height = image.shape[0]\n",
    "    def norm(x):\n",
    "        if x < 0:\n",
    "            x = 0\n",
    "        else:\n",
    "            if x > 1:\n",
    "                x = 1\n",
    "        return x\n",
    "    xmin = [int(i * width) for i in bboxes[:,1]]\n",
    "    ymin = [int(i * height) for i in bboxes[:,0]]\n",
    "    ymax = [int(i * height) for i in bboxes[:,2]]\n",
    "    xmax = [int(i * width) for i in bboxes[:,3]]\n",
    "\n",
    "    for i in range(numofbox):\n",
    "        image = cv2.rectangle(image,(xmin[i],ymin[i]),\n",
    "                             (xmax[i],ymax[i]),(0,255,255))\n",
    "    #print [ymin,xmin,ymax,xmax]\n",
    "    skio.imshow(image)\n",
    "    skio.show()"
   ]
  },
  {
   "cell_type": "code",
   "execution_count": null,
   "metadata": {
    "collapsed": false,
    "deletable": true,
    "editable": true
   },
   "outputs": [],
   "source": [
    "anchor_sizes=[(30., 60.),\n",
    "          (60., 114.),\n",
    "          (114., 168.),\n",
    "          (168., 222.),\n",
    "          (222., 276.),\n",
    "          (276., 330.)]\n",
    "anchor_sizes=[(21., 51.),\n",
    "              (51., 99.),\n",
    "              (133., 153.),\n",
    "              (215., 207.),\n",
    "              (296., 261.),\n",
    "              (379., 315.),\n",
    "              (461, 543.)]\n",
    "scale_range=[0.05, 0.75]\n",
    "scale_range_max = [0.1, 0.9]\n",
    "scales = [scale_range[0] + i*(scale_range[1] - scale_range[0])/6  for i in range(7)]\n",
    "scales_max = [scale_range_max[0] + i*(scale_range_max[1] - scale_range_max[0])/6  for i in range(7)]\n",
    "anchor_sizes = [(512*scales[i], 512*scales_max[i]) for i in range(7)]\n",
    "anchor_sizes=[(30., 51.),\n",
    "              (60., 99.),\n",
    "              (114., 153.),\n",
    "              (168., 207.),\n",
    "              (222., 261.),\n",
    "              (276., 315.)]\n",
    "\n",
    "anchor_sizes\n",
    "\n"
   ]
  },
  {
   "cell_type": "code",
   "execution_count": null,
   "metadata": {
    "collapsed": false,
    "deletable": true,
    "editable": true
   },
   "outputs": [],
   "source": [
    "math.sqrt(10)"
   ]
  },
  {
   "cell_type": "code",
   "execution_count": null,
   "metadata": {
    "collapsed": false,
    "deletable": true,
    "editable": true,
    "scrolled": false
   },
   "outputs": [],
   "source": [
    "out_shape = [500,700]\n",
    "with tf.Graph().as_default(): \n",
    "    # build a net\\\n",
    "    params = txtbox_300.TextboxNet.default_params\n",
    "    #params = params._replace(anchor_sizes = anchor_sizes)\n",
    "    text_net = txtbox_300.TextboxNet(params)\n",
    "    text_shape = text_net.params.img_shape\n",
    "    print 'text_shape '+  str(text_shape)\n",
    "    text_anchors = text_net.anchors(text_shape)\n",
    "    print text_net.params.match_threshold\n",
    "    \n",
    "    ## dataset provider\n",
    "    dataset = sythtextprovider.get_datasets('../data/ICDAR2013/',file_pattern='*.tfrecord')\n",
    "    \n",
    "    data_provider = slim.dataset_data_provider.DatasetDataProvider(\n",
    "            dataset, common_queue_capacity=32, common_queue_min=2)\n",
    "    \n",
    "    [image, shape, glabels, gbboxes] = \\\n",
    "    data_provider.get(['image', 'shape',\n",
    "                     'object/label',\n",
    "                     'object/bbox'])\n",
    "    \n",
    "    dst_image, glabels, gbboxes,num = \\\n",
    "    txt_preprocessing.preprocess_image(image,  glabels,gbboxes, \n",
    "                                            text_shape,is_training=True)\n",
    "    b_gdifficults = tf.zeros(tf.shape(glabels), dtype=tf.int64)\n",
    "    #image = (dst_image - tf.reduce_min(dst_image))/ (tf.reduce_max(dst_image) - tf.reduce_min(dst_image))\n",
    "    glocalisations, gscores = \\\n",
    "    text_net.bboxes_encode( gbboxes, text_anchors, num)\n",
    "    logits = []\n",
    "    predictions = []\n",
    "    for i in range(6):\n",
    "        glocalisations[i] = tf.expand_dims(glocalisations[i], axis=0)\n",
    "        gscores[i] = tf.expand_dims(gscores[i], axis=0)\n",
    "        logits.append(tf.cast(gscores[i] > 0.5, tf.int32))\n",
    "        predictions.append(tf.one_hot(logits[i],axis=-1,depth=2,off_value=0.0,on_value=1.0))\n",
    "    localisations = text_net.bboxes_decode(glocalisations, text_anchors)\n",
    "    rscores, rbboxes = \\\n",
    "    text_net.detected_bboxes(predictions, localisations,\n",
    "                            select_threshold=0.01,\n",
    "                            nms_threshold=0.5,\n",
    "                            clipping_bbox=None,\n",
    "                            top_k=400,\n",
    "                            keep_top_k=400)\n",
    "\n",
    "    with tf.Session() as sess: \n",
    "        sess.run(tf.global_variables_initializer())\n",
    "        with slim.queues.QueueRunners(sess):\n",
    "            error = []\n",
    "            box = []\n",
    "            ws = []\n",
    "            hs = []\n",
    "            sum0 = 0\n",
    "            for i in xrange(1):\n",
    "                rpredictions, rlocalisations, img ,gbboxes_, pre_box_= \\\n",
    "                                        sess.run([gscores, glocalisations,dst_image,gbboxes,rbboxes])\n",
    "                num_boxes, tp_, fp_, rscores_ = sess.rum([num_gbboxes, tp, fp, rscores])\n",
    "                '''\n",
    "                for i in range(6):\n",
    "                    sum0 += np.sum(rpredictions[i] > 0.5)\n",
    "                error.append(gbboxes_.shape[0] - np.ceil(np.sum(pre_box_[1][0] > 0) /4.))\n",
    "                img = img * 255\n",
    "                image_ = img.astype(np.uint8)\n",
    "                img_ = image_.copy()\n",
    "                visualize_bbox(img_, gbboxes_)\n",
    "                img_ = image_.copy()\n",
    "                visualize_bbox(img_, pre_box_[1][0])\n",
    "            print sum0\n",
    "            print pre_box_\n",
    "            print np.sum(error)\n",
    "            '''"
   ]
  },
  {
   "cell_type": "code",
   "execution_count": null,
   "metadata": {
    "collapsed": false,
    "deletable": true,
    "editable": true
   },
   "outputs": [],
   "source": [
    "\n",
    "\n",
    "y = tf.constant([1])\n",
    "condition = tf.equal(x, y)\n",
    "indices = tf.where(condition)\n",
    "print isess.run(indices[0])\n",
    "indice = [indices[0]] \n",
    "values =[1.]\n",
    "shape = x.shape\n",
    "delta = tf.SparseTensor(indice, values, shape)\n",
    "c0 = tf.zeros_like(x_num, tf.float32)\n",
    "fmask = c0 + tf.sparse_tensor_to_dense(delta)\n",
    "np.where(isess.run(fmask) == 1)\n"
   ]
  },
  {
   "cell_type": "code",
   "execution_count": 45,
   "metadata": {
    "collapsed": false,
    "deletable": true,
    "editable": true
   },
   "outputs": [
    {
     "name": "stdout",
     "output_type": "stream",
     "text": [
      "file_path: ../data/ICDAR2013/*.tfrecord\n",
      "{'global': <tf.Tensor 'text_box_300/global/conv3x3/Relu:0' shape=(1, 1, 1, 256) dtype=float32>, 'conv3': <tf.Tensor 'text_box_300/conv3/conv3_3/Relu:0' shape=(1, 75, 75, 256) dtype=float32>, 'conv2': <tf.Tensor 'text_box_300/conv2/conv2_2/Relu:0' shape=(1, 150, 150, 128) dtype=float32>, 'conv1': <tf.Tensor 'text_box_300/conv1/conv1_2/Relu:0' shape=(1, 300, 300, 64) dtype=float32>, 'conv10': <tf.Tensor 'text_box_300/conv10/conv3x3/Relu:0' shape=(1, 3, 3, 256) dtype=float32>, 'conv7': <tf.Tensor 'text_box_300/conv7/Relu:0' shape=(1, 19, 19, 1024) dtype=float32>, 'conv6': <tf.Tensor 'text_box_300/conv6/Relu:0' shape=(1, 19, 19, 1024) dtype=float32>, 'conv5': <tf.Tensor 'text_box_300/conv5/conv5_3/Relu:0' shape=(1, 19, 19, 512) dtype=float32>, 'conv4': <tf.Tensor 'text_box_300/conv4/conv4_3/Relu:0' shape=(1, 38, 38, 512) dtype=float32>, 'conv9': <tf.Tensor 'text_box_300/conv9/conv3x3/Relu:0' shape=(1, 5, 5, 256) dtype=float32>, 'conv8': <tf.Tensor 'text_box_300/conv8/conv3x3/Relu:0' shape=(1, 10, 10, 512) dtype=float32>}\n",
      "INFO:tensorflow:Restoring parameters from ../checkpoints/model.ckpt-182167\n"
     ]
    },
    {
     "ename": "InvalidArgumentError",
     "evalue": "indices[0,1] = 1 is not in [0, 1)\n\t [[Node: precision_recall/Gather_1 = Gather[Tindices=DT_INT32, Tparams=DT_BOOL, validate_indices=true, _device=\"/job:localhost/replica:0/task:0/cpu:0\"](bboxes_matching_batch_dict/bboxes_matching_batch/map/TensorArrayStack_2/TensorArrayGatherV3, precision_recall/TopKV2:1)]]\n\nCaused by op u'precision_recall/Gather_1', defined at:\n  File \"/Applications/python/anaconda/envs/tensorflow2.7/lib/python2.7/runpy.py\", line 174, in _run_module_as_main\n    \"__main__\", fname, loader, pkg_name)\n  File \"/Applications/python/anaconda/envs/tensorflow2.7/lib/python2.7/runpy.py\", line 72, in _run_code\n    exec code in run_globals\n  File \"/Applications/python/anaconda/envs/tensorflow2.7/lib/python2.7/site-packages/ipykernel/__main__.py\", line 3, in <module>\n    app.launch_new_instance()\n  File \"/Applications/python/anaconda/envs/tensorflow2.7/lib/python2.7/site-packages/traitlets/config/application.py\", line 658, in launch_instance\n    app.start()\n  File \"/Applications/python/anaconda/envs/tensorflow2.7/lib/python2.7/site-packages/ipykernel/kernelapp.py\", line 474, in start\n    ioloop.IOLoop.instance().start()\n  File \"/Applications/python/anaconda/envs/tensorflow2.7/lib/python2.7/site-packages/zmq/eventloop/ioloop.py\", line 177, in start\n    super(ZMQIOLoop, self).start()\n  File \"/Applications/python/anaconda/envs/tensorflow2.7/lib/python2.7/site-packages/tornado/ioloop.py\", line 887, in start\n    handler_func(fd_obj, events)\n  File \"/Applications/python/anaconda/envs/tensorflow2.7/lib/python2.7/site-packages/tornado/stack_context.py\", line 275, in null_wrapper\n    return fn(*args, **kwargs)\n  File \"/Applications/python/anaconda/envs/tensorflow2.7/lib/python2.7/site-packages/zmq/eventloop/zmqstream.py\", line 440, in _handle_events\n    self._handle_recv()\n  File \"/Applications/python/anaconda/envs/tensorflow2.7/lib/python2.7/site-packages/zmq/eventloop/zmqstream.py\", line 472, in _handle_recv\n    self._run_callback(callback, msg)\n  File \"/Applications/python/anaconda/envs/tensorflow2.7/lib/python2.7/site-packages/zmq/eventloop/zmqstream.py\", line 414, in _run_callback\n    callback(*args, **kwargs)\n  File \"/Applications/python/anaconda/envs/tensorflow2.7/lib/python2.7/site-packages/tornado/stack_context.py\", line 275, in null_wrapper\n    return fn(*args, **kwargs)\n  File \"/Applications/python/anaconda/envs/tensorflow2.7/lib/python2.7/site-packages/ipykernel/kernelbase.py\", line 276, in dispatcher\n    return self.dispatch_shell(stream, msg)\n  File \"/Applications/python/anaconda/envs/tensorflow2.7/lib/python2.7/site-packages/ipykernel/kernelbase.py\", line 228, in dispatch_shell\n    handler(stream, idents, msg)\n  File \"/Applications/python/anaconda/envs/tensorflow2.7/lib/python2.7/site-packages/ipykernel/kernelbase.py\", line 390, in execute_request\n    user_expressions, allow_stdin)\n  File \"/Applications/python/anaconda/envs/tensorflow2.7/lib/python2.7/site-packages/ipykernel/ipkernel.py\", line 196, in do_execute\n    res = shell.run_cell(code, store_history=store_history, silent=silent)\n  File \"/Applications/python/anaconda/envs/tensorflow2.7/lib/python2.7/site-packages/ipykernel/zmqshell.py\", line 501, in run_cell\n    return super(ZMQInteractiveShell, self).run_cell(*args, **kwargs)\n  File \"/Applications/python/anaconda/envs/tensorflow2.7/lib/python2.7/site-packages/IPython/core/interactiveshell.py\", line 2717, in run_cell\n    interactivity=interactivity, compiler=compiler, result=result)\n  File \"/Applications/python/anaconda/envs/tensorflow2.7/lib/python2.7/site-packages/IPython/core/interactiveshell.py\", line 2821, in run_ast_nodes\n    if self.run_code(code, result):\n  File \"/Applications/python/anaconda/envs/tensorflow2.7/lib/python2.7/site-packages/IPython/core/interactiveshell.py\", line 2881, in run_code\n    exec(code_obj, self.user_global_ns, self.user_ns)\n  File \"<ipython-input-45-ba5633c47007>\", line 48, in <module>\n    prec, rec = tfe.precision_recall( num_gbboxes[1], 10, tp[1], fp[1], rscores[1])\n  File \"../tf_extended/metrics.py\", line 124, in precision_recall\n    fp = tf.gather(fp, idxes)\n  File \"/Applications/python/anaconda/envs/tensorflow2.7/lib/python2.7/site-packages/tensorflow/python/ops/gen_array_ops.py\", line 1207, in gather\n    validate_indices=validate_indices, name=name)\n  File \"/Applications/python/anaconda/envs/tensorflow2.7/lib/python2.7/site-packages/tensorflow/python/framework/op_def_library.py\", line 768, in apply_op\n    op_def=op_def)\n  File \"/Applications/python/anaconda/envs/tensorflow2.7/lib/python2.7/site-packages/tensorflow/python/framework/ops.py\", line 2336, in create_op\n    original_op=self._default_original_op, op_def=op_def)\n  File \"/Applications/python/anaconda/envs/tensorflow2.7/lib/python2.7/site-packages/tensorflow/python/framework/ops.py\", line 1228, in __init__\n    self._traceback = _extract_stack()\n\nInvalidArgumentError (see above for traceback): indices[0,1] = 1 is not in [0, 1)\n\t [[Node: precision_recall/Gather_1 = Gather[Tindices=DT_INT32, Tparams=DT_BOOL, validate_indices=true, _device=\"/job:localhost/replica:0/task:0/cpu:0\"](bboxes_matching_batch_dict/bboxes_matching_batch/map/TensorArrayStack_2/TensorArrayGatherV3, precision_recall/TopKV2:1)]]\n",
     "output_type": "error",
     "traceback": [
      "\u001b[0;31m---------------------------------------------------------------------------\u001b[0m",
      "\u001b[0;31mInvalidArgumentError\u001b[0m                      Traceback (most recent call last)",
      "\u001b[0;32m<ipython-input-45-ba5633c47007>\u001b[0m in \u001b[0;36m<module>\u001b[0;34m()\u001b[0m\n\u001b[1;32m     55\u001b[0m             \u001b[0;32mfor\u001b[0m \u001b[0mi\u001b[0m \u001b[0;32min\u001b[0m \u001b[0mxrange\u001b[0m\u001b[0;34m(\u001b[0m\u001b[0;36m1\u001b[0m\u001b[0;34m)\u001b[0m\u001b[0;34m:\u001b[0m\u001b[0;34m\u001b[0m\u001b[0m\n\u001b[1;32m     56\u001b[0m                 num_gbboxes_, tp_, fp_, rscores_,gbboxes_,image_,pre_box_,glabels_,predictions_,prec_, rec_=                         sess.run([num_gbboxes, tp, fp, rscores,\n\u001b[0;32m---> 57\u001b[0;31m                                  gbboxes,image,rbboxes,glabels,predictions,prec,rec])\n\u001b[0m\u001b[1;32m     58\u001b[0m                 \u001b[0;32mprint\u001b[0m \u001b[0mimage_\u001b[0m\u001b[0;34m.\u001b[0m\u001b[0mshape\u001b[0m\u001b[0;34m\u001b[0m\u001b[0m\n\u001b[1;32m     59\u001b[0m                 \u001b[0mimg\u001b[0m \u001b[0;34m=\u001b[0m \u001b[0mimage_\u001b[0m \u001b[0;34m*\u001b[0m \u001b[0;36m255\u001b[0m\u001b[0;34m\u001b[0m\u001b[0m\n",
      "\u001b[0;32m/Applications/python/anaconda/envs/tensorflow2.7/lib/python2.7/site-packages/tensorflow/python/client/session.pyc\u001b[0m in \u001b[0;36mrun\u001b[0;34m(self, fetches, feed_dict, options, run_metadata)\u001b[0m\n\u001b[1;32m    776\u001b[0m     \u001b[0;32mtry\u001b[0m\u001b[0;34m:\u001b[0m\u001b[0;34m\u001b[0m\u001b[0m\n\u001b[1;32m    777\u001b[0m       result = self._run(None, fetches, feed_dict, options_ptr,\n\u001b[0;32m--> 778\u001b[0;31m                          run_metadata_ptr)\n\u001b[0m\u001b[1;32m    779\u001b[0m       \u001b[0;32mif\u001b[0m \u001b[0mrun_metadata\u001b[0m\u001b[0;34m:\u001b[0m\u001b[0;34m\u001b[0m\u001b[0m\n\u001b[1;32m    780\u001b[0m         \u001b[0mproto_data\u001b[0m \u001b[0;34m=\u001b[0m \u001b[0mtf_session\u001b[0m\u001b[0;34m.\u001b[0m\u001b[0mTF_GetBuffer\u001b[0m\u001b[0;34m(\u001b[0m\u001b[0mrun_metadata_ptr\u001b[0m\u001b[0;34m)\u001b[0m\u001b[0;34m\u001b[0m\u001b[0m\n",
      "\u001b[0;32m/Applications/python/anaconda/envs/tensorflow2.7/lib/python2.7/site-packages/tensorflow/python/client/session.pyc\u001b[0m in \u001b[0;36m_run\u001b[0;34m(self, handle, fetches, feed_dict, options, run_metadata)\u001b[0m\n\u001b[1;32m    980\u001b[0m     \u001b[0;32mif\u001b[0m \u001b[0mfinal_fetches\u001b[0m \u001b[0;32mor\u001b[0m \u001b[0mfinal_targets\u001b[0m\u001b[0;34m:\u001b[0m\u001b[0;34m\u001b[0m\u001b[0m\n\u001b[1;32m    981\u001b[0m       results = self._do_run(handle, final_targets, final_fetches,\n\u001b[0;32m--> 982\u001b[0;31m                              feed_dict_string, options, run_metadata)\n\u001b[0m\u001b[1;32m    983\u001b[0m     \u001b[0;32melse\u001b[0m\u001b[0;34m:\u001b[0m\u001b[0;34m\u001b[0m\u001b[0m\n\u001b[1;32m    984\u001b[0m       \u001b[0mresults\u001b[0m \u001b[0;34m=\u001b[0m \u001b[0;34m[\u001b[0m\u001b[0;34m]\u001b[0m\u001b[0;34m\u001b[0m\u001b[0m\n",
      "\u001b[0;32m/Applications/python/anaconda/envs/tensorflow2.7/lib/python2.7/site-packages/tensorflow/python/client/session.pyc\u001b[0m in \u001b[0;36m_do_run\u001b[0;34m(self, handle, target_list, fetch_list, feed_dict, options, run_metadata)\u001b[0m\n\u001b[1;32m   1030\u001b[0m     \u001b[0;32mif\u001b[0m \u001b[0mhandle\u001b[0m \u001b[0;32mis\u001b[0m \u001b[0mNone\u001b[0m\u001b[0;34m:\u001b[0m\u001b[0;34m\u001b[0m\u001b[0m\n\u001b[1;32m   1031\u001b[0m       return self._do_call(_run_fn, self._session, feed_dict, fetch_list,\n\u001b[0;32m-> 1032\u001b[0;31m                            target_list, options, run_metadata)\n\u001b[0m\u001b[1;32m   1033\u001b[0m     \u001b[0;32melse\u001b[0m\u001b[0;34m:\u001b[0m\u001b[0;34m\u001b[0m\u001b[0m\n\u001b[1;32m   1034\u001b[0m       return self._do_call(_prun_fn, self._session, handle, feed_dict,\n",
      "\u001b[0;32m/Applications/python/anaconda/envs/tensorflow2.7/lib/python2.7/site-packages/tensorflow/python/client/session.pyc\u001b[0m in \u001b[0;36m_do_call\u001b[0;34m(self, fn, *args)\u001b[0m\n\u001b[1;32m   1050\u001b[0m         \u001b[0;32mexcept\u001b[0m \u001b[0mKeyError\u001b[0m\u001b[0;34m:\u001b[0m\u001b[0;34m\u001b[0m\u001b[0m\n\u001b[1;32m   1051\u001b[0m           \u001b[0;32mpass\u001b[0m\u001b[0;34m\u001b[0m\u001b[0m\n\u001b[0;32m-> 1052\u001b[0;31m       \u001b[0;32mraise\u001b[0m \u001b[0mtype\u001b[0m\u001b[0;34m(\u001b[0m\u001b[0me\u001b[0m\u001b[0;34m)\u001b[0m\u001b[0;34m(\u001b[0m\u001b[0mnode_def\u001b[0m\u001b[0;34m,\u001b[0m \u001b[0mop\u001b[0m\u001b[0;34m,\u001b[0m \u001b[0mmessage\u001b[0m\u001b[0;34m)\u001b[0m\u001b[0;34m\u001b[0m\u001b[0m\n\u001b[0m\u001b[1;32m   1053\u001b[0m \u001b[0;34m\u001b[0m\u001b[0m\n\u001b[1;32m   1054\u001b[0m   \u001b[0;32mdef\u001b[0m \u001b[0m_extend_graph\u001b[0m\u001b[0;34m(\u001b[0m\u001b[0mself\u001b[0m\u001b[0;34m)\u001b[0m\u001b[0;34m:\u001b[0m\u001b[0;34m\u001b[0m\u001b[0m\n",
      "\u001b[0;31mInvalidArgumentError\u001b[0m: indices[0,1] = 1 is not in [0, 1)\n\t [[Node: precision_recall/Gather_1 = Gather[Tindices=DT_INT32, Tparams=DT_BOOL, validate_indices=true, _device=\"/job:localhost/replica:0/task:0/cpu:0\"](bboxes_matching_batch_dict/bboxes_matching_batch/map/TensorArrayStack_2/TensorArrayGatherV3, precision_recall/TopKV2:1)]]\n\nCaused by op u'precision_recall/Gather_1', defined at:\n  File \"/Applications/python/anaconda/envs/tensorflow2.7/lib/python2.7/runpy.py\", line 174, in _run_module_as_main\n    \"__main__\", fname, loader, pkg_name)\n  File \"/Applications/python/anaconda/envs/tensorflow2.7/lib/python2.7/runpy.py\", line 72, in _run_code\n    exec code in run_globals\n  File \"/Applications/python/anaconda/envs/tensorflow2.7/lib/python2.7/site-packages/ipykernel/__main__.py\", line 3, in <module>\n    app.launch_new_instance()\n  File \"/Applications/python/anaconda/envs/tensorflow2.7/lib/python2.7/site-packages/traitlets/config/application.py\", line 658, in launch_instance\n    app.start()\n  File \"/Applications/python/anaconda/envs/tensorflow2.7/lib/python2.7/site-packages/ipykernel/kernelapp.py\", line 474, in start\n    ioloop.IOLoop.instance().start()\n  File \"/Applications/python/anaconda/envs/tensorflow2.7/lib/python2.7/site-packages/zmq/eventloop/ioloop.py\", line 177, in start\n    super(ZMQIOLoop, self).start()\n  File \"/Applications/python/anaconda/envs/tensorflow2.7/lib/python2.7/site-packages/tornado/ioloop.py\", line 887, in start\n    handler_func(fd_obj, events)\n  File \"/Applications/python/anaconda/envs/tensorflow2.7/lib/python2.7/site-packages/tornado/stack_context.py\", line 275, in null_wrapper\n    return fn(*args, **kwargs)\n  File \"/Applications/python/anaconda/envs/tensorflow2.7/lib/python2.7/site-packages/zmq/eventloop/zmqstream.py\", line 440, in _handle_events\n    self._handle_recv()\n  File \"/Applications/python/anaconda/envs/tensorflow2.7/lib/python2.7/site-packages/zmq/eventloop/zmqstream.py\", line 472, in _handle_recv\n    self._run_callback(callback, msg)\n  File \"/Applications/python/anaconda/envs/tensorflow2.7/lib/python2.7/site-packages/zmq/eventloop/zmqstream.py\", line 414, in _run_callback\n    callback(*args, **kwargs)\n  File \"/Applications/python/anaconda/envs/tensorflow2.7/lib/python2.7/site-packages/tornado/stack_context.py\", line 275, in null_wrapper\n    return fn(*args, **kwargs)\n  File \"/Applications/python/anaconda/envs/tensorflow2.7/lib/python2.7/site-packages/ipykernel/kernelbase.py\", line 276, in dispatcher\n    return self.dispatch_shell(stream, msg)\n  File \"/Applications/python/anaconda/envs/tensorflow2.7/lib/python2.7/site-packages/ipykernel/kernelbase.py\", line 228, in dispatch_shell\n    handler(stream, idents, msg)\n  File \"/Applications/python/anaconda/envs/tensorflow2.7/lib/python2.7/site-packages/ipykernel/kernelbase.py\", line 390, in execute_request\n    user_expressions, allow_stdin)\n  File \"/Applications/python/anaconda/envs/tensorflow2.7/lib/python2.7/site-packages/ipykernel/ipkernel.py\", line 196, in do_execute\n    res = shell.run_cell(code, store_history=store_history, silent=silent)\n  File \"/Applications/python/anaconda/envs/tensorflow2.7/lib/python2.7/site-packages/ipykernel/zmqshell.py\", line 501, in run_cell\n    return super(ZMQInteractiveShell, self).run_cell(*args, **kwargs)\n  File \"/Applications/python/anaconda/envs/tensorflow2.7/lib/python2.7/site-packages/IPython/core/interactiveshell.py\", line 2717, in run_cell\n    interactivity=interactivity, compiler=compiler, result=result)\n  File \"/Applications/python/anaconda/envs/tensorflow2.7/lib/python2.7/site-packages/IPython/core/interactiveshell.py\", line 2821, in run_ast_nodes\n    if self.run_code(code, result):\n  File \"/Applications/python/anaconda/envs/tensorflow2.7/lib/python2.7/site-packages/IPython/core/interactiveshell.py\", line 2881, in run_code\n    exec(code_obj, self.user_global_ns, self.user_ns)\n  File \"<ipython-input-45-ba5633c47007>\", line 48, in <module>\n    prec, rec = tfe.precision_recall( num_gbboxes[1], 10, tp[1], fp[1], rscores[1])\n  File \"../tf_extended/metrics.py\", line 124, in precision_recall\n    fp = tf.gather(fp, idxes)\n  File \"/Applications/python/anaconda/envs/tensorflow2.7/lib/python2.7/site-packages/tensorflow/python/ops/gen_array_ops.py\", line 1207, in gather\n    validate_indices=validate_indices, name=name)\n  File \"/Applications/python/anaconda/envs/tensorflow2.7/lib/python2.7/site-packages/tensorflow/python/framework/op_def_library.py\", line 768, in apply_op\n    op_def=op_def)\n  File \"/Applications/python/anaconda/envs/tensorflow2.7/lib/python2.7/site-packages/tensorflow/python/framework/ops.py\", line 2336, in create_op\n    original_op=self._default_original_op, op_def=op_def)\n  File \"/Applications/python/anaconda/envs/tensorflow2.7/lib/python2.7/site-packages/tensorflow/python/framework/ops.py\", line 1228, in __init__\n    self._traceback = _extract_stack()\n\nInvalidArgumentError (see above for traceback): indices[0,1] = 1 is not in [0, 1)\n\t [[Node: precision_recall/Gather_1 = Gather[Tindices=DT_INT32, Tparams=DT_BOOL, validate_indices=true, _device=\"/job:localhost/replica:0/task:0/cpu:0\"](bboxes_matching_batch_dict/bboxes_matching_batch/map/TensorArrayStack_2/TensorArrayGatherV3, precision_recall/TopKV2:1)]]\n"
     ]
    }
   ],
   "source": [
    "DATA_FORMAT = 'NHWC'\n",
    "with tf.Graph().as_default(): \n",
    "    text_net = txtbox_300.TextboxNet()\n",
    "    text_shape = text_net.params.img_shape\n",
    "    text_anchors = text_net.anchors(text_shape)\n",
    "    #print text_net.params.match_threshold\n",
    "    \n",
    "    ## dataset provider\n",
    "    dataset = sythtextprovider.get_datasets('../data/ICDAR2013/',file_pattern='*.tfrecord')\n",
    "    \n",
    "    data_provider = slim.dataset_data_provider.DatasetDataProvider(\n",
    "            dataset, common_queue_capacity=32, common_queue_min=2)\n",
    "    \n",
    "    [image, shape, glabels, gbboxes] = \\\n",
    "    data_provider.get(['image', 'shape',\n",
    "                     'object/label',\n",
    "                     'object/bbox'])\n",
    "    \n",
    "    image, glabels, gbboxes,bbox_img, num = \\\n",
    "    txt_preprocessing.preprocess_image(image, glabels,gbboxes, \n",
    "                                            text_shape,is_training=False)\n",
    "    \n",
    "    glocalisations, gscores = \\\n",
    "        text_net.bboxes_encode( gbboxes, text_anchors, num)\n",
    "\n",
    "    b_image, glabels, b_gbboxes, g_bbox_img, b_glocalisations, b_gscores  = \\\n",
    "        [tf.expand_dims(image, 0),tf.expand_dims(glabels, 0), tf.expand_dims(gbboxes, 0), bbox_img,b_glocalisations, b_gscores]\n",
    "    #b_image = tf.expand_dims(b_image, 0)\n",
    "    b_gdifficults = tf.zeros(tf.shape(glabels), dtype=tf.int64)\n",
    "    dict_metrics = {}\n",
    "    arg_scope = text_net.arg_scope(data_format=DATA_FORMAT)\n",
    "    with slim.arg_scope(arg_scope):\n",
    "        localisations, logits, end_points  = \\\n",
    "            text_net.net(b_image, is_training=False, use_batch=True, reuse=None)\n",
    "\n",
    "    predictions = []\n",
    "    for i in range(len(logits)):\n",
    "        predictions.append(tf.nn.softmax(logits[i]))\n",
    "\n",
    "    localisations = text_net.bboxes_decode(localisations, text_anchors)\n",
    "    rscores, rbboxes = \\\n",
    "        text_net.detected_bboxes(predictions, localisations,\n",
    "                                select_threshold=0.5,\n",
    "                                nms_threshold=0.45,\n",
    "                                clipping_bbox=None,\n",
    "                                top_k=400,\n",
    "                                keep_top_k=200)\n",
    "\n",
    "    num_gbboxes, tp, fp, rscores = \\\n",
    "        tfe.bboxes_matching_batch(rscores.keys(), rscores, rbboxes,\n",
    "                                  glabels, b_gbboxes, b_gdifficults,\n",
    "                                  matching_threshold=0.5)\n",
    "    dict_metrics = {}\n",
    "\n",
    "\n",
    "    with tf.Session() as sess: \n",
    "        sess.run(tf.global_variables_initializer())\n",
    "        saver = tf.train.Saver()\n",
    "        saver.restore(sess, '../checkpoints/model.ckpt-182167')\n",
    "        #print tf.all_variables()\n",
    "        with slim.queues.QueueRunners(sess):\n",
    "            for i in xrange(1):\n",
    "                num_gbboxes_, tp_, fp_, rscores_,gbboxes_,image_,pre_box_,glabels_,predictions_,prec_, rec_= \\\n",
    "                        sess.run([num_gbboxes, tp, fp, rscores,\n",
    "                                 gbboxes,image,rbboxes,glabels,predictions,prec,rec])\n",
    "                print image_.shape\n",
    "                img = image_ * 255\n",
    "                image_ = img.astype(np.uint8)\n",
    "                img_ = image_.copy()\n",
    "                visualize_bbox(img_, gbboxes_)\n",
    "                img_ = image_.copy()\n",
    "                visualize_bbox(img_, pre_box_[1][0])\n",
    "  "
   ]
  },
  {
   "cell_type": "code",
   "execution_count": 31,
   "metadata": {
    "collapsed": false,
    "deletable": true,
    "editable": true
   },
   "outputs": [
    {
     "name": "stdout",
     "output_type": "stream",
     "text": [
      "(1, 300, 300, 3)\n",
      "0\n",
      "9\n",
      "0\n",
      "0\n",
      "0\n",
      "0\n"
     ]
    }
   ],
   "source": [
    "print b_image.shape\n",
    "for i in range(6):\n",
    "    print np.sum(predictions_[i][:,:,:,:,:,1]>0.5)"
   ]
  },
  {
   "cell_type": "code",
   "execution_count": 44,
   "metadata": {
    "collapsed": false,
    "deletable": true,
    "editable": true
   },
   "outputs": [
    {
     "data": {
      "text/plain": [
       "array([[ True, False, False, False, False, False, False, False, False,\n",
       "        False, False, False, False, False, False, False, False, False,\n",
       "        False, False, False, False, False, False, False, False, False,\n",
       "        False, False, False, False, False, False, False, False, False,\n",
       "        False, False, False, False, False, False, False, False, False,\n",
       "        False, False, False, False, False, False, False, False, False,\n",
       "        False, False, False, False, False, False, False, False, False,\n",
       "        False, False, False, False, False, False, False, False, False,\n",
       "        False, False, False, False, False, False, False, False, False,\n",
       "        False, False, False, False, False, False, False, False, False,\n",
       "        False, False, False, False, False, False, False, False, False,\n",
       "        False, False, False, False, False, False, False, False, False,\n",
       "        False, False, False, False, False, False, False, False, False,\n",
       "        False, False, False, False, False, False, False, False, False,\n",
       "        False, False, False, False, False, False, False, False, False,\n",
       "        False, False, False, False, False, False, False, False, False,\n",
       "        False, False, False, False, False, False, False, False, False,\n",
       "        False, False, False, False, False, False, False, False, False,\n",
       "        False, False, False, False, False, False, False, False, False,\n",
       "        False, False, False, False, False, False, False, False, False,\n",
       "        False, False, False, False, False, False, False, False, False,\n",
       "        False, False, False, False, False, False, False, False, False,\n",
       "        False, False]], dtype=bool)"
      ]
     },
     "execution_count": 44,
     "metadata": {},
     "output_type": "execute_result"
    }
   ],
   "source": [
    "tp_[1]"
   ]
  },
  {
   "cell_type": "code",
   "execution_count": null,
   "metadata": {
    "collapsed": true
   },
   "outputs": [],
   "source": []
  }
 ],
 "metadata": {
  "kernelspec": {
   "display_name": "keras_tf_2.7",
   "language": "python",
   "name": "tensorflow2.7"
  },
  "language_info": {
   "codemirror_mode": {
    "name": "ipython",
    "version": 2
   },
   "file_extension": ".py",
   "mimetype": "text/x-python",
   "name": "python",
   "nbconvert_exporter": "python",
   "pygments_lexer": "ipython2",
   "version": "2.7.13"
  }
 },
 "nbformat": 4,
 "nbformat_minor": 0
}
