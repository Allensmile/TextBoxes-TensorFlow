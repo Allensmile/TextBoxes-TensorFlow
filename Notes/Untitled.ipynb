{
 "cells": [
  {
   "cell_type": "code",
   "execution_count": 1,
   "metadata": {
    "collapsed": false,
    "deletable": true,
    "editable": true
   },
   "outputs": [],
   "source": [
    "%matplotlib inline\n",
    "%load_ext autoreload\n",
    "%autoreload 2\n",
    "import tensorflow as tf\n",
    "from tensorflow.python.ops import control_flow_ops\n",
    "import os, os.path\n",
    "import sys\n",
    "sys.path.insert(0,'../processing/')\n",
    "sys.path.insert(0,'../')\n",
    "from datasets import sythtextprovider\n",
    "from nets import txtbox_300, textbox_common, np_methods, txtbox512\n",
    "#from processing import image_processing\n",
    "from image_processing2 import *\n",
    "from processing import ssd_vgg_preprocessing, visualization,txt_preprocessing\n",
    "import tf_utils\n",
    "import time\n",
    "slim = tf.contrib.slim\n",
    "import load_batch\n",
    "import numpy as np\n",
    "import skimage.io as skio\n",
    "from processing import tf_image\n",
    "import cv2\n"
   ]
  },
  {
   "cell_type": "code",
   "execution_count": 2,
   "metadata": {
    "collapsed": true,
    "deletable": true,
    "editable": true
   },
   "outputs": [],
   "source": [
    "isess = tf.InteractiveSession()"
   ]
  },
  {
   "cell_type": "code",
   "execution_count": 3,
   "metadata": {
    "collapsed": false,
    "deletable": true,
    "editable": true
   },
   "outputs": [],
   "source": [
    "def visualize_bbox(image, bboxes):\n",
    "    \"\"\"\n",
    "    Input: image (height, width, channels)\n",
    "           bboxes (numof bboxes, 4) in order(ymin, xmin, ymax, xmax)\n",
    "                  range(0,1) \n",
    "    \"\"\"\n",
    "    numofbox = bboxes.shape[0]\n",
    "    width = image.shape[1]\n",
    "    height = image.shape[0]\n",
    "    def norm(x):\n",
    "        if x < 0:\n",
    "            x = 0\n",
    "        else:\n",
    "            if x > 1:\n",
    "                x = 1\n",
    "        return x\n",
    "    xmin = [int(i * width) for i in bboxes[:,1]]\n",
    "    ymin = [int(i * height) for i in bboxes[:,0]]\n",
    "    ymax = [int(i * height) for i in bboxes[:,2]]\n",
    "    xmax = [int(i * width) for i in bboxes[:,3]]\n",
    "\n",
    "    for i in range(numofbox):\n",
    "        image = cv2.rectangle(image,(xmin[i],ymin[i]),\n",
    "                             (xmax[i],ymax[i]),(0,255,255))\n",
    "    #print [ymin,xmin,ymax,xmax]\n",
    "    skio.imshow(image)\n",
    "    skio.show()"
   ]
  },
  {
   "cell_type": "code",
   "execution_count": null,
   "metadata": {
    "collapsed": false,
    "deletable": true,
    "editable": true
   },
   "outputs": [],
   "source": [
    "anchor_sizes=[(30., 60.),\n",
    "          (60., 114.),\n",
    "          (114., 168.),\n",
    "          (168., 222.),\n",
    "          (222., 276.),\n",
    "          (276., 330.)]\n",
    "anchor_sizes=[(21., 51.),\n",
    "              (51., 99.),\n",
    "              (133., 153.),\n",
    "              (215., 207.),\n",
    "              (296., 261.),\n",
    "              (379., 315.),\n",
    "              (461, 543.)]\n",
    "scale_range=[0.05, 0.75]\n",
    "scale_range_max = [0.1, 0.9]\n",
    "scales = [scale_range[0] + i*(scale_range[1] - scale_range[0])/6  for i in range(7)]\n",
    "scales_max = [scale_range_max[0] + i*(scale_range_max[1] - scale_range_max[0])/6  for i in range(7)]\n",
    "anchor_sizes = [(512*scales[i], 512*scales_max[i]) for i in range(7)]\n",
    "anchor_sizes=[(30., 51.),\n",
    "              (60., 99.),\n",
    "              (114., 153.),\n",
    "              (168., 207.),\n",
    "              (222., 261.),\n",
    "              (276., 315.)]\n",
    "\n",
    "anchor_sizes\n",
    "\n"
   ]
  },
  {
   "cell_type": "code",
   "execution_count": null,
   "metadata": {
    "collapsed": false,
    "deletable": true,
    "editable": true
   },
   "outputs": [],
   "source": [
    "math.sqrt(10)"
   ]
  },
  {
   "cell_type": "code",
   "execution_count": 238,
   "metadata": {
    "collapsed": false,
    "deletable": true,
    "editable": true,
    "scrolled": false
   },
   "outputs": [
    {
     "name": "stdout",
     "output_type": "stream",
     "text": [
      "text_shape (300, 300)\n",
      "0.5\n",
      "file_path: ../data/ICDAR2013/*.tfrecord\n",
      "32519\n",
      "{1: array([[[ 0.50561792,  0.5128206 ,  0.5477528 ,  0.68974352],\n",
      "        [ 0.50702244,  0.1974358 ,  0.5477528 ,  0.46923077],\n",
      "        [ 0.50561786,  0.73333335,  0.55758429,  1.        ],\n",
      "        ..., \n",
      "        [ 0.        ,  0.        ,  0.        ,  0.        ],\n",
      "        [ 0.        ,  0.        ,  0.        ,  0.        ],\n",
      "        [ 0.        ,  0.        ,  0.        ,  0.        ]]], dtype=float32)}\n",
      "575.0\n"
     ]
    }
   ],
   "source": [
    "out_shape = [500,700]\n",
    "with tf.Graph().as_default(): \n",
    "    # build a net\\\n",
    "    params = txtbox_300.TextboxNet.default_params\n",
    "    #params = params._replace(anchor_sizes = anchor_sizes)\n",
    "    text_net = txtbox_300.TextboxNet(params)\n",
    "    text_shape = text_net.params.img_shape\n",
    "    print 'text_shape '+  str(text_shape)\n",
    "    text_anchors = text_net.anchors(text_shape)\n",
    "    print text_net.params.match_threshold\n",
    "    \n",
    "    ## dataset provider\n",
    "    dataset = sythtextprovider.get_datasets('../data/ICDAR2013/',file_pattern='*.tfrecord')\n",
    "    \n",
    "    data_provider = slim.dataset_data_provider.DatasetDataProvider(\n",
    "            dataset, common_queue_capacity=32, common_queue_min=2)\n",
    "    \n",
    "    [image, shape, glabels, gbboxes] = \\\n",
    "    data_provider.get(['image', 'shape',\n",
    "                     'object/label',\n",
    "                     'object/bbox'])\n",
    "    \n",
    "    dst_image, glabels, gbboxes,num = \\\n",
    "    txt_preprocessing.preprocess_image(image,  glabels,gbboxes, \n",
    "                                            text_shape,is_training=True)\n",
    "    \n",
    "    #image = (dst_image - tf.reduce_min(dst_image))/ (tf.reduce_max(dst_image) - tf.reduce_min(dst_image))\n",
    "    glocalisations, gscores = \\\n",
    "    text_net.bboxes_encode( gbboxes, text_anchors, num)\n",
    "    logits = []\n",
    "    predictions = []\n",
    "    for i in range(6):\n",
    "        glocalisations[i] = tf.expand_dims(glocalisations[i], axis=0)\n",
    "        gscores[i] = tf.expand_dims(gscores[i], axis=0)\n",
    "        logits.append(tf.cast(gscores[i] > 0.5, tf.int32))\n",
    "        predictions.append(tf.one_hot(logits[i],axis=-1,depth=2,off_value=0.0,on_value=1.0))\n",
    "    localisations = text_net.bboxes_decode(glocalisations, text_anchors)\n",
    "    rscores, rbboxes = \\\n",
    "    text_net.detected_bboxes(predictions, localisations,\n",
    "                            select_threshold=0.01,\n",
    "                            nms_threshold=0.5,\n",
    "                            clipping_bbox=None,\n",
    "                            top_k=400,\n",
    "                            keep_top_k=400)\n",
    "    with tf.Session() as sess: \n",
    "        sess.run(tf.global_variables_initializer())\n",
    "        with slim.queues.QueueRunners(sess):\n",
    "            error = []\n",
    "            box = []\n",
    "            ws = []\n",
    "            hs = []\n",
    "            sum0 = 0\n",
    "            for i in xrange(1000):\n",
    "                rpredictions, rlocalisations, img ,gbboxes_, pre_box_= \\\n",
    "                                        sess.run([gscores, glocalisations,dst_image,gbboxes,rbboxes])\n",
    "            \n",
    "                for i in range(6):\n",
    "                    sum0 += np.sum(rpredictions[i] > 0.5)\n",
    "                error.append(gbboxes_.shape[0] - np.ceil(np.sum(pre_box_[1][0] > 0) /4.))\n",
    "                img = img * 255\n",
    "                image_ = img.astype(np.uint8)\n",
    "                img_ = image_.copy()\n",
    "                #visualize_bbox(img_, gbboxes_)\n",
    "                img_ = image_.copy()\n",
    "                #visualize_bbox(img_, pre_box_[1][0])\n",
    "            print sum0\n",
    "            print pre_box_\n",
    "            print np.sum(error)"
   ]
  },
  {
   "cell_type": "code",
   "execution_count": 212,
   "metadata": {
    "collapsed": false,
    "deletable": true,
    "editable": true
   },
   "outputs": [],
   "source": [
    "gscores[i]"
   ]
  },
  {
   "cell_type": "code",
   "execution_count": 222,
   "metadata": {
    "collapsed": false
   },
   "outputs": [
    {
     "data": {
      "text/plain": [
       "TensorShape([Dimension(2), Dimension(38), Dimension(38), Dimension(2), Dimension(6)])"
      ]
     },
     "execution_count": 222,
     "metadata": {},
     "output_type": "execute_result"
    }
   ],
   "source": [
    "x.shape"
   ]
  },
  {
   "cell_type": "code",
   "execution_count": 223,
   "metadata": {
    "collapsed": false,
    "deletable": true,
    "editable": true
   },
   "outputs": [
    {
     "name": "stdout",
     "output_type": "stream",
     "text": [
      "[ 0 35  2  1  3]\n"
     ]
    },
    {
     "data": {
      "text/plain": [
       "(array([0]), array([35]), array([2]), array([1]), array([3]))"
      ]
     },
     "execution_count": 223,
     "metadata": {},
     "output_type": "execute_result"
    }
   ],
   "source": [
    "\n",
    "\n",
    "y = tf.constant([1])\n",
    "condition = tf.equal(x, y)\n",
    "indices = tf.where(condition)\n",
    "print isess.run(indices[0])\n",
    "indice = [indices[0]] \n",
    "values =[1.]\n",
    "shape = x.shape\n",
    "delta = tf.SparseTensor(indice, values, shape)\n",
    "c0 = tf.zeros_like(x_num, tf.float32)\n",
    "fmask = c0 + tf.sparse_tensor_to_dense(delta)\n",
    "np.where(isess.run(fmask) == 1)\n"
   ]
  },
  {
   "cell_type": "code",
   "execution_count": 106,
   "metadata": {
    "collapsed": false,
    "deletable": true,
    "editable": true
   },
   "outputs": [
    {
     "data": {
      "text/plain": [
       "array([[[[ 0.01      ,  0.01      ,  0.01      ,  0.01      ,  0.01      ,\n",
       "           0.01      ],\n",
       "         [ 0.01      ,  0.01      ,  0.01      ,  0.01      ,  0.01000001,\n",
       "           0.01      ]],\n",
       "\n",
       "        [[ 0.01      ,  0.01      ,  0.01      ,  0.01      ,  0.01      ,\n",
       "           0.01      ],\n",
       "         [ 0.01      ,  0.01      ,  0.01      ,  0.01      ,  0.01000001,\n",
       "           0.01      ]],\n",
       "\n",
       "        [[ 0.01      ,  0.01      ,  0.01      ,  0.01      ,  0.01      ,\n",
       "           0.01      ],\n",
       "         [ 0.01      ,  0.01      ,  0.01      ,  0.01      ,  0.01000001,\n",
       "           0.01      ]],\n",
       "\n",
       "        ..., \n",
       "        [[ 0.01      ,  0.01      ,  0.01      ,  0.01      ,  0.01      ,\n",
       "           0.01      ],\n",
       "         [ 0.01      ,  0.00999999,  0.01000001,  0.01      ,  0.01      ,\n",
       "           0.01      ]],\n",
       "\n",
       "        [[ 0.01      ,  0.01      ,  0.01      ,  0.01      ,  0.01      ,\n",
       "           0.01      ],\n",
       "         [ 0.01      ,  0.01      ,  0.01      ,  0.01      ,  0.01000001,\n",
       "           0.01      ]],\n",
       "\n",
       "        [[ 0.01      ,  0.01      ,  0.01      ,  0.01      ,  0.01      ,\n",
       "           0.01      ],\n",
       "         [ 0.01      ,  0.01      ,  0.01      ,  0.01      ,  0.01000001,\n",
       "           0.01      ]]],\n",
       "\n",
       "\n",
       "       [[[ 0.01      ,  0.01      ,  0.01      ,  0.01      ,  0.01      ,\n",
       "           0.01      ],\n",
       "         [ 0.01      ,  0.01      ,  0.00999999,  0.01      ,  0.01000001,\n",
       "           0.01      ]],\n",
       "\n",
       "        [[ 0.01      ,  0.01      ,  0.01      ,  0.01      ,  0.01      ,\n",
       "           0.01      ],\n",
       "         [ 0.01      ,  0.01      ,  0.00999999,  0.01      ,  0.01000001,\n",
       "           0.01      ]],\n",
       "\n",
       "        [[ 0.01      ,  0.01      ,  0.01      ,  0.01      ,  0.01      ,\n",
       "           0.01      ],\n",
       "         [ 0.01      ,  0.01      ,  0.00999999,  0.01      ,  0.01000001,\n",
       "           0.01      ]],\n",
       "\n",
       "        ..., \n",
       "        [[ 0.01      ,  0.01      ,  0.01      ,  0.01      ,  0.01      ,\n",
       "           0.01      ],\n",
       "         [ 0.01      ,  0.00999999,  0.00999999,  0.01      ,  0.01000001,\n",
       "           0.01      ]],\n",
       "\n",
       "        [[ 0.01      ,  0.01      ,  0.01      ,  0.01      ,  0.01      ,\n",
       "           0.01      ],\n",
       "         [ 0.01      ,  0.01      ,  0.00999999,  0.01      ,  0.01000001,\n",
       "           0.01      ]],\n",
       "\n",
       "        [[ 0.01      ,  0.01      ,  0.01      ,  0.01      ,  0.01      ,\n",
       "           0.01      ],\n",
       "         [ 0.01      ,  0.01      ,  0.00999999,  0.01      ,  0.01000001,\n",
       "           0.01      ]]],\n",
       "\n",
       "\n",
       "       [[[ 0.01      ,  0.01      ,  0.01      ,  0.01      ,  0.01      ,\n",
       "           0.01      ],\n",
       "         [ 0.01      ,  0.01      ,  0.00999999,  0.01      ,  0.01000001,\n",
       "           0.01      ]],\n",
       "\n",
       "        [[ 0.01      ,  0.01      ,  0.01      ,  0.01      ,  0.01      ,\n",
       "           0.01      ],\n",
       "         [ 0.01      ,  0.01      ,  0.00999999,  0.01      ,  0.01000001,\n",
       "           0.01      ]],\n",
       "\n",
       "        [[ 0.01      ,  0.01      ,  0.01      ,  0.01      ,  0.01      ,\n",
       "           0.01      ],\n",
       "         [ 0.01      ,  0.01      ,  0.00999999,  0.01      ,  0.01000001,\n",
       "           0.01      ]],\n",
       "\n",
       "        ..., \n",
       "        [[ 0.01      ,  0.01      ,  0.01      ,  0.01      ,  0.01      ,\n",
       "           0.01      ],\n",
       "         [ 0.01      ,  0.00999999,  0.00999999,  0.01      ,  0.01000001,\n",
       "           0.01      ]],\n",
       "\n",
       "        [[ 0.01      ,  0.01      ,  0.01      ,  0.01      ,  0.01      ,\n",
       "           0.01      ],\n",
       "         [ 0.01      ,  0.01      ,  0.00999999,  0.01      ,  0.01000001,\n",
       "           0.01      ]],\n",
       "\n",
       "        [[ 0.01      ,  0.01      ,  0.01      ,  0.01      ,  0.01      ,\n",
       "           0.01      ],\n",
       "         [ 0.01      ,  0.01      ,  0.00999999,  0.01      ,  0.01000001,\n",
       "           0.01      ]]],\n",
       "\n",
       "\n",
       "       ..., \n",
       "       [[[ 0.01      ,  0.01      ,  0.00999999,  0.01      ,  0.01000001,\n",
       "           0.01      ],\n",
       "         [ 0.00999999,  0.01      ,  0.00999999,  0.01      ,  0.01000001,\n",
       "           0.01000004]],\n",
       "\n",
       "        [[ 0.01      ,  0.01      ,  0.00999999,  0.01      ,  0.01000001,\n",
       "           0.01      ],\n",
       "         [ 0.00999999,  0.01      ,  0.00999999,  0.01      ,  0.01000001,\n",
       "           0.01000004]],\n",
       "\n",
       "        [[ 0.01      ,  0.01      ,  0.00999999,  0.01      ,  0.01000001,\n",
       "           0.01      ],\n",
       "         [ 0.00999999,  0.01      ,  0.00999999,  0.01      ,  0.01000001,\n",
       "           0.01000004]],\n",
       "\n",
       "        ..., \n",
       "        [[ 0.01      ,  0.00999999,  0.00999999,  0.01      ,  0.01000001,\n",
       "           0.01      ],\n",
       "         [ 0.00999999,  0.00999999,  0.00999999,  0.01      ,  0.01000001,\n",
       "           0.01000003]],\n",
       "\n",
       "        [[ 0.01      ,  0.01      ,  0.00999999,  0.01      ,  0.01000001,\n",
       "           0.01      ],\n",
       "         [ 0.00999999,  0.01      ,  0.00999999,  0.01      ,  0.01000001,\n",
       "           0.01000004]],\n",
       "\n",
       "        [[ 0.01      ,  0.01      ,  0.00999999,  0.01      ,  0.01000001,\n",
       "           0.01      ],\n",
       "         [ 0.00999999,  0.01      ,  0.00999999,  0.01      ,  0.01000001,\n",
       "           0.01000004]]],\n",
       "\n",
       "\n",
       "       [[[ 0.01      ,  0.01      ,  0.01000001,  0.01      ,  0.01000001,\n",
       "           0.01      ],\n",
       "         [ 0.00999999,  0.01      ,  0.00999999,  0.01      ,  0.01000001,\n",
       "           0.01000004]],\n",
       "\n",
       "        [[ 0.01      ,  0.01      ,  0.01000001,  0.01      ,  0.01000001,\n",
       "           0.01      ],\n",
       "         [ 0.00999999,  0.01      ,  0.00999999,  0.01      ,  0.01000001,\n",
       "           0.01000004]],\n",
       "\n",
       "        [[ 0.01      ,  0.01      ,  0.01000001,  0.01      ,  0.01000001,\n",
       "           0.01      ],\n",
       "         [ 0.00999999,  0.01      ,  0.00999999,  0.01      ,  0.01000001,\n",
       "           0.01000004]],\n",
       "\n",
       "        ..., \n",
       "        [[ 0.01      ,  0.00999999,  0.01000001,  0.01      ,  0.01000001,\n",
       "           0.01      ],\n",
       "         [ 0.00999999,  0.00999999,  0.00999999,  0.01      ,  0.01000001,\n",
       "           0.01000003]],\n",
       "\n",
       "        [[ 0.01      ,  0.01      ,  0.01000001,  0.01      ,  0.01000001,\n",
       "           0.01      ],\n",
       "         [ 0.00999999,  0.01      ,  0.00999999,  0.01      ,  0.01000001,\n",
       "           0.01000004]],\n",
       "\n",
       "        [[ 0.01      ,  0.01      ,  0.01000001,  0.01      ,  0.01000001,\n",
       "           0.01      ],\n",
       "         [ 0.00999999,  0.01      ,  0.00999999,  0.01      ,  0.01000001,\n",
       "           0.01000004]]],\n",
       "\n",
       "\n",
       "       [[[ 0.01      ,  0.01000001,  0.01000001,  0.00999999,  0.01      ,\n",
       "           0.01      ],\n",
       "         [ 0.00999999,  0.01      ,  0.00999999,  0.01      ,  0.01000001,\n",
       "           0.01000004]],\n",
       "\n",
       "        [[ 0.01      ,  0.01000001,  0.01000001,  0.00999999,  0.01      ,\n",
       "           0.01      ],\n",
       "         [ 0.00999999,  0.01      ,  0.00999999,  0.01      ,  0.01000001,\n",
       "           0.01000004]],\n",
       "\n",
       "        [[ 0.01      ,  0.01000001,  0.01000001,  0.00999999,  0.01      ,\n",
       "           0.01      ],\n",
       "         [ 0.00999999,  0.01      ,  0.00999999,  0.01      ,  0.01000001,\n",
       "           0.01000004]],\n",
       "\n",
       "        ..., \n",
       "        [[ 0.01      ,  0.01      ,  0.01000001,  0.00999999,  0.01      ,\n",
       "           0.01      ],\n",
       "         [ 0.00999999,  0.00999999,  0.00999999,  0.01      ,  0.01000001,\n",
       "           0.01000003]],\n",
       "\n",
       "        [[ 0.01      ,  0.01000001,  0.01000001,  0.00999999,  0.01      ,\n",
       "           0.01      ],\n",
       "         [ 0.00999999,  0.01      ,  0.00999999,  0.01      ,  0.01000001,\n",
       "           0.01000004]],\n",
       "\n",
       "        [[ 0.01      ,  0.01000001,  0.01000001,  0.00999999,  0.01      ,\n",
       "           0.01      ],\n",
       "         [ 0.00999999,  0.01      ,  0.00999999,  0.01      ,  0.01000001,\n",
       "           0.01000004]]]], dtype=float32)"
      ]
     },
     "execution_count": 106,
     "metadata": {},
     "output_type": "execute_result"
    }
   ],
   "source": [
    "yref, xref, href, wref = text_anchors[0]\n",
    "ymin = yref - href / 2.\n",
    "xmin = xref - wref / 2.\n",
    "ymax = yref + href / 2.\n",
    "xmax = xref + wref / 2. \n",
    "vol_anchors = (xmax - xmin) * (ymax - ymin)\n",
    "vol_anchors "
   ]
  },
  {
   "cell_type": "code",
   "execution_count": 85,
   "metadata": {
    "collapsed": false,
    "deletable": true,
    "editable": true
   },
   "outputs": [
    {
     "data": {
      "text/plain": [
       "18.973665961010276"
      ]
     },
     "execution_count": 85,
     "metadata": {},
     "output_type": "execute_result"
    }
   ],
   "source": [
    "np.sqrt(0.004)*300"
   ]
  },
  {
   "cell_type": "code",
   "execution_count": null,
   "metadata": {
    "collapsed": false,
    "deletable": true,
    "editable": true
   },
   "outputs": [],
   "source": [
    "with tf.Graph().as_default(): \n",
    "    # build a net\\\n",
    "    params = txtbox_300.TextboxNet.default_params\n",
    "    #params = params._replace(anchor_sizes = anchor_sizes)\n",
    "    text_net = txtbox_300.TextboxNet(params)\n",
    "    text_shape = text_net.params.img_shape\n",
    "    print 'text_shape '+  str(text_shape)\n",
    "    text_anchors = text_net.anchors(text_shape)\n",
    "    print text_net.params.match_threshold\n",
    "    \n",
    "    ## dataset provider\n",
    "    dataset = sythtextprovider.get_datasets('../data/ICDAR2013/',file_pattern='*.tfrecord')\n",
    "    \n",
    "    data_provider = slim.dataset_data_provider.DatasetDataProvider(\n",
    "            dataset, common_queue_capacity=32, common_queue_min=2)\n",
    "    \n",
    "    [image, shape, glabels, gbboxes] = \\\n",
    "    data_provider.get(['image', 'shape',\n",
    "                     'object/label',\n",
    "                     'object/bbox'])\n",
    "    \n",
    "    dst_image, glabels, gbboxes,num = \\\n",
    "    txt_preprocessing.preprocess_image(image,  glabels,gbboxes, \n",
    "                                            text_shape,is_training=True)\n",
    "    \n",
    "\n",
    "    with tf.Session() as sess: \n",
    "        sess.run(tf.global_variables_initializer())\n",
    "        with slim.queues.QueueRunners(sess):\n",
    "            box = []\n",
    "            for i in xrange(5000):\n",
    "                gbboxes_= sess.run([gbboxes])\n",
    "                leng = gbboxes_[0][:,2] - gbboxes_[0][:,0]\n",
    "                box.append(leng)\n"
   ]
  },
  {
   "cell_type": "code",
   "execution_count": null,
   "metadata": {
    "collapsed": false,
    "deletable": true,
    "editable": true
   },
   "outputs": [],
   "source": [
    "boxes = [i.tolist() for i in box]"
   ]
  },
  {
   "cell_type": "code",
   "execution_count": null,
   "metadata": {
    "collapsed": false,
    "deletable": true,
    "editable": true
   },
   "outputs": [],
   "source": [
    "all_box = []\n",
    "combined = [item*300 for sublist in boxes for item in sublist]"
   ]
  },
  {
   "cell_type": "code",
   "execution_count": null,
   "metadata": {
    "collapsed": false,
    "deletable": true,
    "editable": true
   },
   "outputs": [],
   "source": [
    "import numpy \n",
    "\n",
    "hist,bins=np.histogram(combined,bins=np.linspace(0,300,60))\n",
    "print(hist,bins)"
   ]
  },
  {
   "cell_type": "code",
   "execution_count": null,
   "metadata": {
    "collapsed": false,
    "deletable": true,
    "editable": true
   },
   "outputs": [],
   "source": [
    "for i in range(6):\n",
    "    print rlocalisations[i][np.where(rpredictions_2[i] > 0.5)].shape"
   ]
  },
  {
   "cell_type": "code",
   "execution_count": null,
   "metadata": {
    "collapsed": false,
    "deletable": true,
    "editable": true
   },
   "outputs": [],
   "source": [
    "gbboxes_[0].shape"
   ]
  },
  {
   "cell_type": "code",
   "execution_count": null,
   "metadata": {
    "collapsed": false,
    "deletable": true,
    "editable": true
   },
   "outputs": [],
   "source": [
    "import math\n",
    "min_dim = 300\n",
    "min_ratio = 20\n",
    "max_ratio = 95\n",
    "step = int(math.floor((max_ratio - min_ratio) / (6 - 2)))\n",
    "min_sizes = []\n",
    "max_sizes = []\n",
    "for ratio in xrange(min_ratio, max_ratio + 1, step):\n",
    "    min_sizes.append(min_dim * ratio / 100.)\n",
    "    max_sizes.append(min_dim * (ratio + step) / 100.)\n",
    "min_sizes = [min_dim * 10 / 100.] + min_sizes\n",
    "max_sizes = [[]] + max_sizes"
   ]
  },
  {
   "cell_type": "code",
   "execution_count": null,
   "metadata": {
    "collapsed": false,
    "deletable": true,
    "editable": true
   },
   "outputs": [],
   "source": [
    "np.savetxt(fname='result.csv',X=a,delimiter=',',fmt='%.4f')"
   ]
  },
  {
   "cell_type": "code",
   "execution_count": null,
   "metadata": {
    "collapsed": false,
    "deletable": true,
    "editable": true
   },
   "outputs": [],
   "source": [
    "max_sizes"
   ]
  },
  {
   "cell_type": "code",
   "execution_count": null,
   "metadata": {
    "collapsed": false,
    "deletable": true,
    "editable": true
   },
   "outputs": [],
   "source": [
    "anchor_sizes"
   ]
  },
  {
   "cell_type": "code",
   "execution_count": null,
   "metadata": {
    "collapsed": true,
    "deletable": true,
    "editable": true
   },
   "outputs": [],
   "source": []
  }
 ],
 "metadata": {
  "kernelspec": {
   "display_name": "keras_tf_2.7",
   "language": "python",
   "name": "tensorflow2.7"
  },
  "language_info": {
   "codemirror_mode": {
    "name": "ipython",
    "version": 2
   },
   "file_extension": ".py",
   "mimetype": "text/x-python",
   "name": "python",
   "nbconvert_exporter": "python",
   "pygments_lexer": "ipython2",
   "version": "2.7.13"
  }
 },
 "nbformat": 4,
 "nbformat_minor": 0
}
