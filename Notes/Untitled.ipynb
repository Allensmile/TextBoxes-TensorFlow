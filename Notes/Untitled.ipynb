{
 "cells": [
  {
   "cell_type": "code",
   "execution_count": 77,
   "metadata": {
    "collapsed": false
   },
   "outputs": [],
   "source": [
    "import tensorflow as tf\n",
    "from tensorflow.python.ops import control_flow_ops\n",
    "import os, os.path\n",
    "import sys\n",
    "sys.path.insert(0,'../processing/')\n",
    "sys.path.insert(0,'../')\n",
    "from datasets import sythtextprovider\n",
    "from deployment import model_deploy\n",
    "from nets import txtbox_300\n",
    "#from processing import image_processing\n",
    "from image_processing2 import *\n",
    "from processing import ssd_vgg_preprocessing\n",
    "import tf_utils\n",
    "import time\n",
    "slim = tf.contrib.slim"
   ]
  },
  {
   "cell_type": "code",
   "execution_count": 78,
   "metadata": {
    "collapsed": true
   },
   "outputs": [],
   "source": [
    "data_dir = '/Users/xiaodiu/Documents/github/projecttextbox/TextBoxes-TensorFlow/data/sythtext/'\n",
    "file_name = data_dir + '1.tfrecord'\n",
    "## test if file_name exists  \n",
    "\n",
    "#example = tf.python_io.tf_record_iterator(file_name).next()\n",
    "reader =  tf.python_io.tf_record_iterator(file_name)\n",
    "#image_buffer, label, bboxes, name= parse_example(example)"
   ]
  },
  {
   "cell_type": "code",
   "execution_count": 85,
   "metadata": {
    "collapsed": false
   },
   "outputs": [],
   "source": [
    "def next_batch(reader,net,anchors,batch_size = 32):\n",
    "    images = []\n",
    "    b_glocal = []\n",
    "    b_gsocres = []\n",
    "    len = 0\n",
    "    while(len < batch_size):\n",
    "        try:\n",
    "            example = reader.next()\n",
    "            image_buffer, label, bboxes, name= parse_example(example)\n",
    "            image = tf.image.decode_jpeg(image_buffer,channels=3)\n",
    "            image, glabels, gbboxes,num =\\\n",
    "                ssd_vgg_preprocessing.preprocess_image(image,label,bboxes, \n",
    "                                                (300,300),is_training=True,\n",
    "                                                data_format='NHWC')\n",
    "            #glocalisations, gscores = \\\n",
    "            #net.bboxes_encode( gbboxes, anchors,num)\n",
    "            #b_glocal.append(glocalisations)\n",
    "            #b_gsocres.append(gscores)\n",
    "            images.append(image)\n",
    "            len +=1\n",
    "        except StopIteration:\n",
    "            print 'here is end ',i   \n",
    "    return images, b_glocal, b_gsocres"
   ]
  },
  {
   "cell_type": "code",
   "execution_count": 66,
   "metadata": {
    "collapsed": false
   },
   "outputs": [
    {
     "data": {
      "text/plain": [
       "33"
      ]
     },
     "execution_count": 66,
     "metadata": {},
     "output_type": "execute_result"
    }
   ],
   "source": [
    "with tf.Session() as sess:"
   ]
  },
  {
   "cell_type": "code",
   "execution_count": null,
   "metadata": {
    "collapsed": true
   },
   "outputs": [],
   "source": []
  }
 ],
 "metadata": {
  "kernelspec": {
   "display_name": "keras_tf_2.7",
   "language": "python",
   "name": "tensorflow2.7"
  },
  "language_info": {
   "codemirror_mode": {
    "name": "ipython",
    "version": 2
   },
   "file_extension": ".py",
   "mimetype": "text/x-python",
   "name": "python",
   "nbconvert_exporter": "python",
   "pygments_lexer": "ipython2",
   "version": "2.7.13"
  }
 },
 "nbformat": 4,
 "nbformat_minor": 0
}
