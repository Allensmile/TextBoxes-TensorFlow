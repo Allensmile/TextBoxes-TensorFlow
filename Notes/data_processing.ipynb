{
 "cells": [
  {
   "cell_type": "code",
   "execution_count": null,
   "metadata": {
    "collapsed": true,
    "deletable": true,
    "editable": true
   },
   "outputs": [],
   "source": [
    "## 1. Transform data to record format\n",
    "## First dataset from http://www.robots.ox.ac.uk/~vgg/data/scenetext/\n",
    "## This method failed, because "
   ]
  },
  {
   "cell_type": "code",
   "execution_count": 1,
   "metadata": {
    "collapsed": false,
    "deletable": true,
    "editable": true
   },
   "outputs": [],
   "source": [
    "%matplotlib inline\n",
    "%load_ext autoreload\n",
    "%autoreload 2\n",
    "import math\n",
    "import numpy as np\n",
    "import scipy.io as sio\n",
    "import gzip\n",
    "from zipfile import ZipFile\n",
    "import matplotlib.pyplot as plt\n",
    "import cv2\n",
    "import sys\n",
    "sys.path.insert(0,'../')\n",
    "sys.path.insert(0,'../processing/')\n",
    "from datasets import sythtextprovider\n",
    "import tensorflow as tf\n",
    "import skimage.io as skio\n",
    "#tf.InteractiveSession()\n",
    "from PIL import Image\n",
    "import re\n",
    "import os\n",
    "slim = tf.contrib.slim\n",
    "tf.__version__\n",
    "#from image_processing2 import *\n",
    "from processing import txt_preprocessing\n",
    "import tf_extended as tfe\n",
    "from processing import tf_image\n",
    "from nets import txtbox_300\n",
    "import tf_utils\n",
    "from nets import custom_layers\n",
    "import load_batch"
   ]
  },
  {
   "cell_type": "code",
   "execution_count": 2,
   "metadata": {
    "collapsed": true,
    "deletable": true,
    "editable": true
   },
   "outputs": [],
   "source": [
    "def visualize_bbox(image, bboxes):\n",
    "    \"\"\"\n",
    "    Input: image (height, width, channels)\n",
    "           bboxes (numof bboxes, 4) in order(ymin, xmin, ymax, xmax)\n",
    "                  range(0,1) \n",
    "    \"\"\"\n",
    "    numofbox = bboxes.shape[0]\n",
    "    width = image.shape[1]\n",
    "    height = image.shape[0]\n",
    "    def norm(x):\n",
    "        if x < 0:\n",
    "            x = 0\n",
    "        else:\n",
    "            if x > 1:\n",
    "                x = 1\n",
    "        return x\n",
    "    xmin = [int(i * width) for i in bboxes[:,1]]\n",
    "    ymin = [int(i * height) for i in bboxes[:,0]]\n",
    "    ymax = [int(i * height) for i in bboxes[:,2]]\n",
    "    xmax = [int(i * width) for i in bboxes[:,3]]\n",
    "\n",
    "    for i in range(numofbox):\n",
    "        image = cv2.rectangle(image,(xmin[i],ymin[i]),\n",
    "                             (xmax[i],ymax[i]),(0,255,255))\n",
    "    print [ymin,xmin,ymax,xmax]\n",
    "    skio.imshow(image)\n",
    "    skio.show()"
   ]
  },
  {
   "cell_type": "code",
   "execution_count": 15,
   "metadata": {
    "collapsed": false,
    "deletable": true,
    "editable": true
   },
   "outputs": [
    {
     "name": "stdout",
     "output_type": "stream",
     "text": [
      "text_shape (300, 300)\n",
      "file_path: ../data/sythtext/50.tfrecord\n"
     ]
    }
   ],
   "source": [
    "with tf.Graph().as_default(): \n",
    "    # build a net\n",
    "    text_net = txtbox_300.TextboxNet()\n",
    "    text_shape = text_net.params.img_shape\n",
    "    print 'text_shape '+  str(text_shape)\n",
    "    text_anchors = text_net.anchors(text_shape)\n",
    "    \n",
    "    ## dataset provider\n",
    "    dataset = sythtextprovider.get_datasets('../data/sythtext/',file_pattern='50.tfrecord')\n",
    "    \n",
    "    data_provider = slim.dataset_data_provider.DatasetDataProvider(\n",
    "            dataset, common_queue_capacity=32, common_queue_min=2)\n",
    "    \n",
    "    [image, shape, glabels, gbboxes,height,width] = \\\n",
    "    data_provider.get(['image', 'shape',\n",
    "                     'object/label',\n",
    "                     'object/bbox','height','width'])\n",
    "    \n",
    "    image_train, glabels, gbboxes,num = \\\n",
    "        txt_preprocessing.preprocess_image(image,  glabels,gbboxes, \n",
    "                                        [300,300],is_training=True)\n",
    "    image_test, labels, bboxes, bbox_img,num = \\\n",
    "        txt_preprocessing.preprocess_image(image,  glabels,gbboxes, \n",
    "                                        [300,300],is_training=False)\n",
    "    batch_image = slim.batch_norm(image_train)\n",
    "    #scala_image = tf.cast(image_train, tf.uint8)\n",
    "    \n",
    "    \n",
    "    with tf.Session() as sess: \n",
    "        sess.run(tf.global_variables_initializer())\n",
    "        with slim.queues.QueueRunners(sess):\n",
    "            for i in xrange(1):\n",
    "                image_, batch_image_,image_test_,bbox_,test_box= sess.run([image_train,batch_image,image_test,gbboxes,bboxes])\n",
    "\n",
    "  \n",
    "                \n",
    "                "
   ]
  },
  {
   "cell_type": "code",
   "execution_count": 16,
   "metadata": {
    "collapsed": false
   },
   "outputs": [
    {
     "name": "stdout",
     "output_type": "stream",
     "text": [
      "0.517647 -0.458824\n"
     ]
    }
   ],
   "source": [
    "print image_.max(),image_.min()"
   ]
  },
  {
   "cell_type": "code",
   "execution_count": null,
   "metadata": {
    "collapsed": false,
    "deletable": true,
    "editable": true
   },
   "outputs": [],
   "source": [
    "image_test_ = image_test_ * 255.0\n",
    "image_test_ = image_test_.astype(np.uint8)\n",
    "visualize_bbox(image_test_, test_box)\n"
   ]
  },
  {
   "cell_type": "code",
   "execution_count": null,
   "metadata": {
    "collapsed": false,
    "deletable": true,
    "editable": true
   },
   "outputs": [],
   "source": [
    "image_ = image_ *255.0\n",
    "image_ = image_.astype(np.uint8)\n",
    "visualize_bbox(image_, bbox_)"
   ]
  },
  {
   "cell_type": "code",
   "execution_count": null,
   "metadata": {
    "collapsed": false,
    "deletable": true,
    "editable": true
   },
   "outputs": [],
   "source": [
    "image_ = image_.astype(np.uint8)\n",
    "#skio.imshow(np.uint8(image_bbox_p[0,:,:,:])*255)\n",
    "skio.imshow(image_)"
   ]
  },
  {
   "cell_type": "code",
   "execution_count": null,
   "metadata": {
    "collapsed": false,
    "deletable": true,
    "editable": true
   },
   "outputs": [],
   "source": [
    "for i in range(6):\n",
    "    pmask = gscores_[i] > 0.5\n",
    "    print np.sum(pmask)\n",
    "bbox_"
   ]
  },
  {
   "cell_type": "code",
   "execution_count": null,
   "metadata": {
    "collapsed": false,
    "deletable": true,
    "editable": true
   },
   "outputs": [],
   "source": [
    "for i in range(6):\n",
    "    print np.where(gscores_[i] >0.1)\n",
    "gscores_[0].shape"
   ]
  },
  {
   "cell_type": "code",
   "execution_count": null,
   "metadata": {
    "collapsed": false,
    "deletable": true,
    "editable": true
   },
   "outputs": [],
   "source": [
    "loss"
   ]
  },
  {
   "cell_type": "code",
   "execution_count": null,
   "metadata": {
    "collapsed": false,
    "deletable": true,
    "editable": true
   },
   "outputs": [],
   "source": [
    "pos_loss = 0\n",
    "neg_loss = 0\n",
    "for i in range(6):\n",
    "    p_mask = np.int32(np.greater(b_gscores_[i] , 0.5))\n",
    "    print np.sum(p_mask)\n",
    "    n_mask = np.int32(np.less(b_gscores_[i] , 0.5))\n",
    "    pos_loss += np.mean(pow((p_mask * (logits_[i][:,:,:,:,:,1] - p_mask)),2))\n",
    "    neg_loss += np.mean(pow((n_mask * (logits_[i][:,:,:,:,:,0] - n_mask)),2))\n",
    "print pos_loss,neg_loss"
   ]
  },
  {
   "cell_type": "code",
   "execution_count": null,
   "metadata": {
    "collapsed": true,
    "deletable": true,
    "editable": true
   },
   "outputs": [],
   "source": []
  }
 ],
 "metadata": {
  "kernelspec": {
   "display_name": "keras_tf_2.7",
   "language": "python",
   "name": "tensorflow2.7"
  },
  "language_info": {
   "codemirror_mode": {
    "name": "ipython",
    "version": 2
   },
   "file_extension": ".py",
   "mimetype": "text/x-python",
   "name": "python",
   "nbconvert_exporter": "python",
   "pygments_lexer": "ipython2",
   "version": "2.7.13"
  }
 },
 "nbformat": 4,
 "nbformat_minor": 0
}
