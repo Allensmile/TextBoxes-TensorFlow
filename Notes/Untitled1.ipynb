{
 "cells": [
  {
   "cell_type": "code",
   "execution_count": 5,
   "metadata": {
    "collapsed": false
   },
   "outputs": [
    {
     "name": "stdout",
     "output_type": "stream",
     "text": [
      "The autoreload extension is already loaded. To reload it, use:\n",
      "  %reload_ext autoreload\n"
     ]
    }
   ],
   "source": [
    "%matplotlib inline\n",
    "%load_ext autoreload\n",
    "%autoreload 2\n",
    "import tensorflow as tf\n",
    "from tensorflow.python.ops import control_flow_ops\n",
    "import os, os.path\n",
    "import sys\n",
    "sys.path.insert(0,'../processing/')\n",
    "sys.path.insert(0,'../')\n",
    "from datasets import sythtextprovider\n",
    "import load_batch\n",
    "from nets import txtbox_300, textbox_common, np_methods\n",
    "#from processing import image_processing\n",
    "from image_processing2 import *\n",
    "from processing import txt_preprocessing\n",
    "import tf_utils\n",
    "import time\n",
    "slim = tf.contrib.slim\n",
    "import load_batch\n",
    "import numpy as np\n",
    "import skimage.io as skio\n",
    "from processing import tf_image\n",
    "import cv2"
   ]
  },
  {
   "cell_type": "code",
   "execution_count": 2,
   "metadata": {
    "collapsed": true
   },
   "outputs": [],
   "source": [
    "isess = tf.InteractiveSession()"
   ]
  },
  {
   "cell_type": "code",
   "execution_count": 10,
   "metadata": {
    "collapsed": false
   },
   "outputs": [
    {
     "name": "stdout",
     "output_type": "stream",
     "text": [
      "text_shape (300, 300)\n",
      "file_path: ../data/sythtext/*.tfrecord\n"
     ]
    }
   ],
   "source": [
    "with tf.Graph().as_default(): \n",
    "    text_net = txtbox_300.TextboxNet()\n",
    "    text_shape = text_net.params.img_shape\n",
    "    print 'text_shape '+  str(text_shape)\n",
    "    text_anchors = text_net.anchors(text_shape)\n",
    "\n",
    "    b_image, b_glocalisations, b_gscores = \\\n",
    "        load_batch.get_batch('../data/sythtext/',\n",
    "                             3,\n",
    "                             1,\n",
    "                             text_shape,\n",
    "                             text_net,\n",
    "                             text_anchors,\n",
    "                             2,\n",
    "                             file_pattern = '*.tfrecord',\n",
    "                             is_training = True,\n",
    "                             shuffe = False)\n",
    "    localisations, logits, end_points = \\\n",
    "                        text_net.net(b_image, is_training=True, use_batch=False)\n",
    "    with tf.Session() as sess: \n",
    "        sess.run(tf.global_variables_initializer())\n",
    "        with slim.queues.QueueRunners(sess):\n",
    "            for i in xrange(1):\n",
    "                "
   ]
  },
  {
   "cell_type": "code",
   "execution_count": 40,
   "metadata": {
    "collapsed": false,
    "deletable": true,
    "editable": true
   },
   "outputs": [],
   "source": [
    "gradient_multipliers = {\n",
    "            'conv1/conv1_1/weights_1' : 0.,\n",
    "            'conv1/conv1_1/biases_1' : 0.,\n",
    "            'conv1/conv1_2/weights_1' : 0.,\n",
    "            'conv1/conv1_2/biases_1' : 0.,\n",
    "            'conv2/conv2_1/weights_1' : 0.,\n",
    "            'conv2/conv2_1/biases_1' : 0.,\n",
    "            'conv2/conv2_2/weights_1' : 0.,\n",
    "            'conv2/conv2_2/biases_1' : 0.,\n",
    "            'conv3/conv3_1/weights_1' : 1.,\n",
    "            'conv3/conv3_1/biases_1' : 2.,\n",
    "            'conv3/conv3_2/weights_1' : 1.,\n",
    "            'conv3/conv3_2/biases_1' : 2.,\n",
    "            'conv4/conv4_1/weights_1' : 1.,\n",
    "            'conv4/conv4_1/biases_1' : 2.,\n",
    "            'conv4/conv4_2/weights_1' : 1.,\n",
    "            'conv4/conv4_2/biases_1' : 2.,\n",
    "            'conv4/conv4_3/weights_1' : 1.,\n",
    "            'conv4/conv4_3/biases_1' : 2.,\n",
    "            'conv5/conv5_1/weights_1' : 1.,\n",
    "            'conv5/conv5_1/biases_1' : 2.,\n",
    "            'conv5/conv5_2/weights_1' : 1.,\n",
    "            'conv5/conv5_2/biases_1' : 2.,\n",
    "            'conv5/conv5_3/weights_1' : 1.,\n",
    "            'conv5/conv5_3/biases_1' : 2.,\n",
    "            'conv6/weights_1' : 1.,\n",
    "            'conv6/biases_1' : 2.,\n",
    "            'conv7/weights_1' : 1.,\n",
    "            'conv7/biases_1' : 2.,\n",
    "            'conv8/conv1x1/weights_1' :1.,\n",
    "            'conv8/conv1x1/biases_1' :2.,\n",
    "            'conv8/conv3x3/weights_1' :1.,\n",
    "            'conv8/conv3x3/biases_1' :2.,\n",
    "            'conv9/conv1x1/weights_1' :1.,\n",
    "            'conv9/conv1x1/biases_1' :2.,\n",
    "            'conv9/conv3x3/weights_1' :1.,\n",
    "            'conv9/conv3x3/biases_1' :2.,\n",
    "            'conv10/conv1x1/weights_1' :1.,\n",
    "            'conv10/conv1x1/biases_1' :2.,\n",
    "            'conv10/conv3x3/weights_1' :1.,\n",
    "            'conv10/conv3x3/biases_1' :2.,\n",
    "            'global/conv1x1/weights_1' :1.,\n",
    "            'global/conv1x1/biases_1' :2.,\n",
    "            'global/conv3x3/weights_1' :1.,\n",
    "            'global/conv3x3/biases_1' :2.,\n",
    "            'conv4_box/conv_cls/weights_1': 1.,\n",
    "            'conv4_box/conv_cls/biases_1': 2.,\n",
    "            'conv4_box/conv_loc/weights_1': 1.,\n",
    "            'conv4_box/conv_loc/biases_1': 2.,\n",
    "            'conv7_box/conv_loc/weights_1': 1.,\n",
    "            'conv7_box/conv_loc/biases_1': 2.,\n",
    "            'conv7_box/conv_cls/weights_1': 1.,\n",
    "            'conv7_box/conv_cls/biases_1': 2.,\n",
    "            'conv8_box/conv_loc/weights_1': 1.,\n",
    "            'conv8_box/conv_loc/biases_1': 2.,\n",
    "            'conv8_box/conv_cls/weights_1': 1.,\n",
    "            'conv8_box/conv_cls/biases_1': 2.,\n",
    "            'conv9_box/conv_loc/weights_1': 1.,\n",
    "            'conv9_box/conv_loc/biases_1': 2.,\n",
    "            'conv9_box/conv_cls/weights_1': 1.,\n",
    "            'conv9_box/conv_cls/biases_1': 2.,\n",
    "            'conv10_box/conv_cls/weights_1': 1.,\n",
    "            'conv10_box/conv_cls/biases_1': 2.,\n",
    "            'conv10_box/conv_loc/weights_1': 1.,\n",
    "            'conv10_box/conv_loc/biases_1': 2.,\n",
    "            'global_box/conv_cls/weights_1': 1.,\n",
    "            'global_box/conv_cls/biases_1': 2.,\n",
    "            'global_box/conv_loc/weights_1': 1.,\n",
    "            'global_box/conv_loc/biases_1': 2.\n",
    "        }"
   ]
  },
  {
   "cell_type": "code",
   "execution_count": 41,
   "metadata": {
    "collapsed": false
   },
   "outputs": [],
   "source": [
    "#text_box_300/conv1/conv1_1/weights\n",
    "#text_box_300/conv2/conv2_1/biases\n",
    "gradient_multipliers = {'text_box_300/'+k:v for k,v in gradient_multipliers.items()}\n",
    "import pickle\n",
    "pickle.dump( gradient_multipliers, open('../nets/multiplier_300.pkl','wb'),)"
   ]
  },
  {
   "cell_type": "code",
   "execution_count": 42,
   "metadata": {
    "collapsed": false
   },
   "outputs": [
    {
     "data": {
      "text/plain": [
       "{'text_box_300/conv1/conv1_1/biases_1': 0.0,\n",
       " 'text_box_300/conv1/conv1_1/weights_1': 0.0,\n",
       " 'text_box_300/conv1/conv1_2/biases_1': 0.0,\n",
       " 'text_box_300/conv1/conv1_2/weights_1': 0.0,\n",
       " 'text_box_300/conv10/conv1x1/biases_1': 2.0,\n",
       " 'text_box_300/conv10/conv1x1/weights_1': 1.0,\n",
       " 'text_box_300/conv10/conv3x3/biases_1': 2.0,\n",
       " 'text_box_300/conv10/conv3x3/weights_1': 1.0,\n",
       " 'text_box_300/conv10_box/conv_cls/biases_1': 2.0,\n",
       " 'text_box_300/conv10_box/conv_cls/weights_1': 1.0,\n",
       " 'text_box_300/conv10_box/conv_loc/biases_1': 2.0,\n",
       " 'text_box_300/conv10_box/conv_loc/weights_1': 1.0,\n",
       " 'text_box_300/conv2/conv2_1/biases_1': 0.0,\n",
       " 'text_box_300/conv2/conv2_1/weights_1': 0.0,\n",
       " 'text_box_300/conv2/conv2_2/biases_1': 0.0,\n",
       " 'text_box_300/conv2/conv2_2/weights_1': 0.0,\n",
       " 'text_box_300/conv3/conv3_1/biases_1': 2.0,\n",
       " 'text_box_300/conv3/conv3_1/weights_1': 1.0,\n",
       " 'text_box_300/conv3/conv3_2/biases_1': 2.0,\n",
       " 'text_box_300/conv3/conv3_2/weights_1': 1.0,\n",
       " 'text_box_300/conv4/conv4_1/biases_1': 2.0,\n",
       " 'text_box_300/conv4/conv4_1/weights_1': 1.0,\n",
       " 'text_box_300/conv4/conv4_2/biases_1': 2.0,\n",
       " 'text_box_300/conv4/conv4_2/weights_1': 1.0,\n",
       " 'text_box_300/conv4/conv4_3/biases_1': 2.0,\n",
       " 'text_box_300/conv4/conv4_3/weights_1': 1.0,\n",
       " 'text_box_300/conv4_box/conv_cls/biases_1': 2.0,\n",
       " 'text_box_300/conv4_box/conv_cls/weights_1': 1.0,\n",
       " 'text_box_300/conv4_box/conv_loc/biases_1': 2.0,\n",
       " 'text_box_300/conv4_box/conv_loc/weights_1': 1.0,\n",
       " 'text_box_300/conv5/conv5_1/biases_1': 2.0,\n",
       " 'text_box_300/conv5/conv5_1/weights_1': 1.0,\n",
       " 'text_box_300/conv5/conv5_2/biases_1': 2.0,\n",
       " 'text_box_300/conv5/conv5_2/weights_1': 1.0,\n",
       " 'text_box_300/conv5/conv5_3/biases_1': 2.0,\n",
       " 'text_box_300/conv5/conv5_3/weights_1': 1.0,\n",
       " 'text_box_300/conv6/biases_1': 2.0,\n",
       " 'text_box_300/conv6/weights_1': 1.0,\n",
       " 'text_box_300/conv7/biases_1': 2.0,\n",
       " 'text_box_300/conv7/weights_1': 1.0,\n",
       " 'text_box_300/conv7_box/conv_cls/biases_1': 2.0,\n",
       " 'text_box_300/conv7_box/conv_cls/weights_1': 1.0,\n",
       " 'text_box_300/conv7_box/conv_loc/biases_1': 2.0,\n",
       " 'text_box_300/conv7_box/conv_loc/weights_1': 1.0,\n",
       " 'text_box_300/conv8/conv1x1/biases_1': 2.0,\n",
       " 'text_box_300/conv8/conv1x1/weights_1': 1.0,\n",
       " 'text_box_300/conv8/conv3x3/biases_1': 2.0,\n",
       " 'text_box_300/conv8/conv3x3/weights_1': 1.0,\n",
       " 'text_box_300/conv8_box/conv_cls/biases_1': 2.0,\n",
       " 'text_box_300/conv8_box/conv_cls/weights_1': 1.0,\n",
       " 'text_box_300/conv8_box/conv_loc/biases_1': 2.0,\n",
       " 'text_box_300/conv8_box/conv_loc/weights_1': 1.0,\n",
       " 'text_box_300/conv9/conv1x1/biases_1': 2.0,\n",
       " 'text_box_300/conv9/conv1x1/weights_1': 1.0,\n",
       " 'text_box_300/conv9/conv3x3/biases_1': 2.0,\n",
       " 'text_box_300/conv9/conv3x3/weights_1': 1.0,\n",
       " 'text_box_300/conv9_box/conv_cls/biases_1': 2.0,\n",
       " 'text_box_300/conv9_box/conv_cls/weights_1': 1.0,\n",
       " 'text_box_300/conv9_box/conv_loc/biases_1': 2.0,\n",
       " 'text_box_300/conv9_box/conv_loc/weights_1': 1.0,\n",
       " 'text_box_300/global/conv1x1/biases_1': 2.0,\n",
       " 'text_box_300/global/conv1x1/weights_1': 1.0,\n",
       " 'text_box_300/global/conv3x3/biases_1': 2.0,\n",
       " 'text_box_300/global/conv3x3/weights_1': 1.0,\n",
       " 'text_box_300/global_box/conv_cls/biases_1': 2.0,\n",
       " 'text_box_300/global_box/conv_cls/weights_1': 1.0,\n",
       " 'text_box_300/global_box/conv_loc/biases_1': 2.0,\n",
       " 'text_box_300/global_box/conv_loc/weights_1': 1.0}"
      ]
     },
     "execution_count": 42,
     "metadata": {},
     "output_type": "execute_result"
    }
   ],
   "source": [
    "pickle.load(open('../nets/multiplier_300.pkl','rb'))"
   ]
  },
  {
   "cell_type": "code",
   "execution_count": null,
   "metadata": {
    "collapsed": true
   },
   "outputs": [],
   "source": []
  }
 ],
 "metadata": {
  "kernelspec": {
   "display_name": "keras_tf_2.7",
   "language": "python",
   "name": "tensorflow2.7"
  },
  "language_info": {
   "codemirror_mode": {
    "name": "ipython",
    "version": 2
   },
   "file_extension": ".py",
   "mimetype": "text/x-python",
   "name": "python",
   "nbconvert_exporter": "python",
   "pygments_lexer": "ipython2",
   "version": "2.7.13"
  }
 },
 "nbformat": 4,
 "nbformat_minor": 2
}
